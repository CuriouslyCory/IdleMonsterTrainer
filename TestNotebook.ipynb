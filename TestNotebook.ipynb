{
 "metadata": {
  "language_info": {
   "codemirror_mode": {
    "name": "ipython",
    "version": 3
   },
   "file_extension": ".py",
   "mimetype": "text/x-python",
   "name": "python",
   "nbconvert_exporter": "python",
   "pygments_lexer": "ipython3",
   "version": "3.9.0"
  },
  "orig_nbformat": 4,
  "kernelspec": {
   "name": "python3",
   "display_name": "Python 3.9.0 64-bit (conda)"
  },
  "interpreter": {
   "hash": "eb6342e75234b8d0b0d52a67d65081b6d6a8773990a57bb79e2425053e207571"
  }
 },
 "nbformat": 4,
 "nbformat_minor": 2,
 "cells": [
  {
   "cell_type": "code",
   "execution_count": 2,
   "metadata": {},
   "outputs": [],
   "source": [
    "import cv2\n",
    "import numpy as np"
   ]
  },
  {
   "cell_type": "code",
   "execution_count": 95,
   "metadata": {},
   "outputs": [],
   "source": [
    "test_scene = cv2.imread('testing/Chest on Screen.png', cv2.IMREAD_UNCHANGED)\n",
    "needle = cv2.imread('Chest2.png', cv2.IMREAD_UNCHANGED)"
   ]
  },
  {
   "cell_type": "code",
   "execution_count": 76,
   "metadata": {},
   "outputs": [],
   "source": [
    "cv2.imshow('Scene', test_scene)\n",
    "cv2.waitKey()\n",
    "cv2.destroyAllWindows()"
   ]
  },
  {
   "cell_type": "code",
   "execution_count": 96,
   "metadata": {},
   "outputs": [],
   "source": [
    "cv2.imshow('Needle', needle)\n",
    "cv2.waitKey()\n",
    "cv2.destroyAllWindows()"
   ]
  },
  {
   "cell_type": "code",
   "execution_count": 97,
   "metadata": {},
   "outputs": [],
   "source": [
    "result = cv2.matchTemplate(test_scene, needle, cv2.TM_CCOEFF_NORMED)"
   ]
  },
  {
   "cell_type": "code",
   "execution_count": 98,
   "metadata": {},
   "outputs": [],
   "source": [
    "cv2.imshow('Result', result)\n",
    "cv2.waitKey()\n",
    "cv2.destroyAllWindows()"
   ]
  },
  {
   "cell_type": "code",
   "execution_count": 99,
   "metadata": {},
   "outputs": [],
   "source": [
    "min_val, max_val, min_loc, max_loc = cv2.minMaxLoc(result)"
   ]
  },
  {
   "cell_type": "code",
   "execution_count": 100,
   "metadata": {},
   "outputs": [
    {
     "output_type": "execute_result",
     "data": {
      "text/plain": [
       "(442, 293)"
      ]
     },
     "metadata": {},
     "execution_count": 100
    }
   ],
   "source": [
    "max_loc"
   ]
  },
  {
   "cell_type": "code",
   "execution_count": 101,
   "metadata": {},
   "outputs": [
    {
     "output_type": "execute_result",
     "data": {
      "text/plain": [
       "0.9303142428398132"
      ]
     },
     "metadata": {},
     "execution_count": 101
    }
   ],
   "source": [
    "max_val"
   ]
  },
  {
   "cell_type": "code",
   "execution_count": 102,
   "metadata": {},
   "outputs": [],
   "source": [
    "\n",
    "w = needle.shape[1]\n",
    "h = needle.shape[0]"
   ]
  },
  {
   "cell_type": "code",
   "execution_count": 103,
   "metadata": {},
   "outputs": [
    {
     "output_type": "execute_result",
     "data": {
      "text/plain": [
       "array([[[154, 195, 238, 255],\n",
       "        [154, 195, 238, 255],\n",
       "        [154, 195, 238, 255],\n",
       "        ...,\n",
       "        [ 38,  38,  38, 255],\n",
       "        [ 30,  29,  29, 255],\n",
       "        [ 31,  30,  30, 255]],\n",
       "\n",
       "       [[ 81, 123, 180, 255],\n",
       "        [154, 195, 238, 255],\n",
       "        [154, 195, 238, 255],\n",
       "        ...,\n",
       "        [ 38,  38,  38, 255],\n",
       "        [ 30,  29,  29, 255],\n",
       "        [ 31,  30,  30, 255]],\n",
       "\n",
       "       [[ 81, 123, 180, 255],\n",
       "        [154, 195, 238, 255],\n",
       "        [154, 195, 238, 255],\n",
       "        ...,\n",
       "        [ 38,  38,  38, 255],\n",
       "        [ 30,  29,  29, 255],\n",
       "        [ 31,  30,  30, 255]],\n",
       "\n",
       "       ...,\n",
       "\n",
       "       [[ 49, 190, 107, 255],\n",
       "        [ 49, 190, 107, 255],\n",
       "        [ 49, 190, 107, 255],\n",
       "        ...,\n",
       "        [ 35,  35,  35, 255],\n",
       "        [ 24,  24,  24, 255],\n",
       "        [ 25,  25,  25, 255]],\n",
       "\n",
       "       [[ 49, 190, 107, 255],\n",
       "        [ 49, 190, 107, 255],\n",
       "        [ 49, 190, 107, 255],\n",
       "        ...,\n",
       "        [ 35,  35,  35, 255],\n",
       "        [ 24,  24,  24, 255],\n",
       "        [ 25,  25,  25, 255]],\n",
       "\n",
       "       [[ 49, 190, 107, 255],\n",
       "        [ 49, 190, 107, 255],\n",
       "        [ 49, 190, 107, 255],\n",
       "        ...,\n",
       "        [ 35,  35,  35, 255],\n",
       "        [ 24,  24,  24, 255],\n",
       "        [ 25,  25,  25, 255]]], dtype=uint8)"
      ]
     },
     "metadata": {},
     "execution_count": 103
    }
   ],
   "source": [
    "cv2.rectangle(test_scene, max_loc, (max_loc[0] + w, max_loc[1] + h), (0,255,255), 2)"
   ]
  },
  {
   "cell_type": "code",
   "execution_count": 105,
   "metadata": {},
   "outputs": [],
   "source": [
    "threshold = .80"
   ]
  },
  {
   "cell_type": "code",
   "execution_count": 106,
   "metadata": {},
   "outputs": [],
   "source": [
    "yloc, xloc = np.where(result >= threshold)"
   ]
  },
  {
   "cell_type": "code",
   "execution_count": 107,
   "metadata": {},
   "outputs": [
    {
     "output_type": "execute_result",
     "data": {
      "text/plain": [
       "4"
      ]
     },
     "metadata": {},
     "execution_count": 107
    }
   ],
   "source": [
    "len(xloc)"
   ]
  },
  {
   "cell_type": "code",
   "execution_count": 108,
   "metadata": {},
   "outputs": [],
   "source": [
    "for (x, y) in zip(xloc, yloc):\n",
    "    cv2.rectangle(test_scene, (x, y), (x + w, y + h), (0,255,255), 2)"
   ]
  },
  {
   "cell_type": "code",
   "execution_count": 109,
   "metadata": {},
   "outputs": [],
   "source": [
    "cv2.imshow('Scene', test_scene)\n",
    "cv2.waitKey()\n",
    "cv2.destroyAllWindows()"
   ]
  },
  {
   "cell_type": "code",
   "execution_count": null,
   "metadata": {},
   "outputs": [],
   "source": []
  }
 ]
}